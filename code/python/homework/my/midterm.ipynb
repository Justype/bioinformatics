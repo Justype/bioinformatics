{
 "cells": [
  {
   "cell_type": "markdown",
   "metadata": {},
   "source": [
    "# Part 1 Short Answer Questions\n",
    "\n",
    "### 1 List comprehension.\n",
    "\n",
    "```py\n",
    "results=[]\n",
    "for i in range(10):\n",
    "    if (i % 2 == 0):\n",
    "        results.append(i**2)\n",
    "```"
   ]
  },
  {
   "cell_type": "code",
   "execution_count": 1,
   "metadata": {},
   "outputs": [
    {
     "data": {
      "text/plain": [
       "[0, 4, 16, 36, 64]"
      ]
     },
     "execution_count": 1,
     "metadata": {},
     "output_type": "execute_result"
    }
   ],
   "source": [
    "[i ** 2 for i in range(10) if i % 2 == 0]"
   ]
  },
  {
   "cell_type": "markdown",
   "metadata": {},
   "source": [
    "### 2 Python data\n",
    "\n",
    "A matrix is a 2-dimensional object, very much like a table, that hrows and columns.\n",
    "\n",
    "1. Give an example of how you can represent a matrix that has 6 columns and 4 rows using lists.\n"
   ]
  },
  {
   "cell_type": "code",
   "execution_count": 2,
   "metadata": {},
   "outputs": [
    {
     "data": {
      "text/plain": [
       "[[11, 12, 13, 14, 15, 16],\n",
       " [21, 22, 23, 24, 25, 26],\n",
       " [31, 32, 33, 34, 35, 36],\n",
       " [41, 42, 43, 44, 45, 46]]"
      ]
     },
     "execution_count": 2,
     "metadata": {},
     "output_type": "execute_result"
    }
   ],
   "source": [
    "# I use lists inside a list\n",
    "# list[nrow][ncolumn]\n",
    "\n",
    "nrow = 4\n",
    "ncol = 6\n",
    "\n",
    "matrix_ls = []\n",
    "\n",
    "for i in range(nrow):\n",
    "    ls_row = []\n",
    "    for j in range(ncol):\n",
    "        ls_row.append(10 * i + j + 11) # easy for debug\n",
    "    matrix_ls.append(ls_row)\n",
    "\n",
    "matrix_ls"
   ]
  },
  {
   "cell_type": "markdown",
   "metadata": {},
   "source": [
    "2. Explain how you would retrieve values from the three different scenarios (the code/solution does not have to be written in just one line):\n",
    "    1. the value in row 2, column 4.\n",
    "    2. all values in row 3\n",
    "    3. all values in column 2"
   ]
  },
  {
   "cell_type": "code",
   "execution_count": 3,
   "metadata": {},
   "outputs": [
    {
     "data": {
      "text/plain": [
       "24"
      ]
     },
     "execution_count": 3,
     "metadata": {},
     "output_type": "execute_result"
    }
   ],
   "source": [
    "# the value in row 2, column 4\n",
    "# in my case it should be 24\n",
    "# As I said above, list[nrow][ncol]\n",
    "# first index is row index, the second is column\n",
    "matrix_ls[1][3]"
   ]
  },
  {
   "cell_type": "code",
   "execution_count": 4,
   "metadata": {},
   "outputs": [
    {
     "data": {
      "text/plain": [
       "[31, 32, 33, 34, 35, 36]"
      ]
     },
     "execution_count": 4,
     "metadata": {},
     "output_type": "execute_result"
    }
   ],
   "source": [
    "# all values in row 3\n",
    "# I set row as the outer list\n",
    "# so I use the statement below\n",
    "matrix_ls[2]"
   ]
  },
  {
   "cell_type": "code",
   "execution_count": 5,
   "metadata": {},
   "outputs": [
    {
     "data": {
      "text/plain": [
       "[12, 22, 32, 42]"
      ]
     },
     "execution_count": 5,
     "metadata": {},
     "output_type": "execute_result"
    }
   ],
   "source": [
    "# all values in column 2\n",
    "# column is the inner list\n",
    "# I use a list comprehension to pull them out\n",
    "[row[1] for row in matrix_ls]"
   ]
  },
  {
   "cell_type": "markdown",
   "metadata": {},
   "source": [
    "### 3 Python object (30 pts)\n",
    "\n",
    "Create a class called `Gene` which stores:\n",
    "\n",
    "- Name - a string\n",
    "- Species - as a string\n",
    "- Sequence - as a string\n",
    "- Coordinates - as a list of two values, first is start coordinate and the second is the upto but not including the end coordinate.\n",
    "\n",
    "\n",
    "- The `__init__` function should expect the user to provide all the variables requested above when creating a new instance of gene.\n",
    "- Overload the operator `__len__` such that it returns the difference between the end. For example, If the coordinates for a gene called BRCA1 are 1200, 1500, then the len(BRCA1) should return 300."
   ]
  },
  {
   "cell_type": "code",
   "execution_count": 6,
   "metadata": {},
   "outputs": [],
   "source": [
    "class Gene:\n",
    "    Name = \"\"\n",
    "    Species = \"\"\n",
    "    Sequence = \"\"\n",
    "    Coordinates = list() # upto but not including\n",
    "\n",
    "    def __init__(self, name: str, species: str, sequence: str, coordinates: list):\n",
    "        \"\"\"\n",
    "        Coordinates - as a list of two values\n",
    "        1. first is start coordinate\n",
    "        2. the second is the upto but not including the end coordinate.\n",
    "        \"\"\"\n",
    "        self.Name = name\n",
    "        self.Species = species\n",
    "        self.Sequence = sequence\n",
    "        self.Coordinates = coordinates\n",
    "\n",
    "    def __len__(self):\n",
    "        \"\"\"\n",
    "        Return the length of the gene\n",
    "        \"\"\"\n",
    "        return self.Coordinates[1] - self.Coordinates[0]"
   ]
  },
  {
   "cell_type": "code",
   "execution_count": 7,
   "metadata": {},
   "outputs": [],
   "source": [
    "# Test my class\n",
    "BRCA1 = Gene(\"BRCA1\", \"Homo sapiens\", \"AAAAAATTTTTCCCCCGGGG\", [1200, 1500])"
   ]
  },
  {
   "cell_type": "code",
   "execution_count": 8,
   "metadata": {},
   "outputs": [
    {
     "data": {
      "text/plain": [
       "'BRCA1'"
      ]
     },
     "execution_count": 8,
     "metadata": {},
     "output_type": "execute_result"
    }
   ],
   "source": [
    "BRCA1.Name"
   ]
  },
  {
   "cell_type": "code",
   "execution_count": 9,
   "metadata": {},
   "outputs": [
    {
     "data": {
      "text/plain": [
       "'Homo sapiens'"
      ]
     },
     "execution_count": 9,
     "metadata": {},
     "output_type": "execute_result"
    }
   ],
   "source": [
    "BRCA1.Species"
   ]
  },
  {
   "cell_type": "code",
   "execution_count": 10,
   "metadata": {},
   "outputs": [
    {
     "data": {
      "text/plain": [
       "'AAAAAATTTTTCCCCCGGGG'"
      ]
     },
     "execution_count": 10,
     "metadata": {},
     "output_type": "execute_result"
    }
   ],
   "source": [
    "BRCA1.Sequence"
   ]
  },
  {
   "cell_type": "code",
   "execution_count": 11,
   "metadata": {},
   "outputs": [
    {
     "data": {
      "text/plain": [
       "[1200, 1500]"
      ]
     },
     "execution_count": 11,
     "metadata": {},
     "output_type": "execute_result"
    }
   ],
   "source": [
    "BRCA1.Coordinates"
   ]
  },
  {
   "cell_type": "code",
   "execution_count": 12,
   "metadata": {},
   "outputs": [
    {
     "data": {
      "text/plain": [
       "300"
      ]
     },
     "execution_count": 12,
     "metadata": {},
     "output_type": "execute_result"
    }
   ],
   "source": [
    "len(BRCA1)"
   ]
  },
  {
   "cell_type": "markdown",
   "metadata": {},
   "source": [
    "# 2 GFF parser\n",
    "\n",
    "The file format that contains gene locus annotations is called a GFF file. There may be modules\n",
    "written to parse them, so you are more than welcome to use them. However, the format is a\n",
    "simple tab delimited format containing 9 columns, so it may easier to simply write your own\n",
    "parser. The nine columns of a GFF file are :\n",
    "1) Reference sequence – for example a chromosome name\n",
    "2) Source – who created the annotations\n",
    "3) Feature – genomic features such as gene, exons, CDS, etc. Notice they are hierarchical. For our task we are only interested in the “gene” features.\n",
    "4) Start – Start position of the feature on the Reference Sequence\n",
    "5) End – Stop position of the feature on the Reference Sequence\n",
    "6) Score – Such as Blast score, if there isn’t one you will see a “.”\n",
    "7) Strand – Positive or Negative\n",
    "8) Phase – Used for CDS to explain which of the three phases is being translated.\n",
    "9) Annotation – Details of the feature such as name and parent feature. For this\n",
    "example we are only interested in “Name”\n",
    "\n"
   ]
  },
  {
   "cell_type": "code",
   "execution_count": 13,
   "metadata": {},
   "outputs": [],
   "source": [
    "import re\n",
    "\n",
    "class GFF:\n",
    "    \"\"\"\n",
    "    Storage a column of a `.gff` file\n",
    "    \"\"\"\n",
    "    ReferenceSequence = \"\"\n",
    "    Source = \"\"\n",
    "    Feature = \"\"\n",
    "    Start = int()\n",
    "    End = int()\n",
    "    Score = \"\"\n",
    "    Strand = \"\"\n",
    "    Phase = \"\"\n",
    "    Annotation = \"\"\n",
    "\n",
    "    def __str__(self):\n",
    "        return \"ReferenceSequence\\t\" + self.ReferenceSequence \\\n",
    "            + \"\\nSource\\t\\t\\t\" + self.Source \\\n",
    "            + \"\\nFeature\\t\\t\\t\" + self.Feature \\\n",
    "            + \"\\nStart\\t\\t\\t\" + str(self.Start) \\\n",
    "            + \"\\nEnd\\t\\t\\t\" + str(self.End) \\\n",
    "            + \"\\nScore\\t\\t\\t\" + self.Score \\\n",
    "            + \"\\nStrand\\t\\t\\t\" + self.Strand \\\n",
    "            + \"\\nPhase\\t\\t\\t\" + self.Phase \\\n",
    "            + \"\\nAnnotation\\t\\t\" + self.Annotation\n",
    "\n",
    "def open_gff(path: str) -> list:\n",
    "    \"\"\"\n",
    "    open the gff file, and return a list of GFF\n",
    "    \"\"\"\n",
    "    ls_gff = []\n",
    "\n",
    "    with open(path) as f:\n",
    "        for line in f.readlines():\n",
    "            gff = GFF()\n",
    "            data = line.strip().split(\"\\t\")\n",
    "            gff.ReferenceSequence = data[0]\n",
    "            gff.Source = data[1]\n",
    "            gff.Feature = data[2]\n",
    "            gff.Start = int(data[3])\n",
    "            gff.End = int(data[4])\n",
    "            gff.Score = data[5]\n",
    "            gff.Strand = data[6]\n",
    "            gff.Phase = data[7]\n",
    "            gff.Annotation = data[8]\n",
    "            \n",
    "            ls_gff.append(gff)\n",
    "\n",
    "    return ls_gff\n",
    "\n",
    "def get_name_from_gff(gff: GFF) -> str:\n",
    "    \"\"\"\n",
    "    return the name from gff annotation\n",
    "    \"\"\"\n",
    "    match = re.search(r\"Name=(.*?)(;|$)\", gff.Annotation)\n",
    "    return match.group(1) if match else \"\""
   ]
  },
  {
   "cell_type": "markdown",
   "metadata": {},
   "source": [
    "Test my functions"
   ]
  },
  {
   "cell_type": "code",
   "execution_count": 14,
   "metadata": {},
   "outputs": [],
   "source": [
    "TAIR10_GFF3 = open_gff(\"TAIR10_GFF3_genes.gff\")"
   ]
  },
  {
   "cell_type": "code",
   "execution_count": 15,
   "metadata": {},
   "outputs": [
    {
     "name": "stdout",
     "output_type": "stream",
     "text": [
      "ReferenceSequence\tChr1\n",
      "Source\t\t\tTAIR10\n",
      "Feature\t\t\tgene\n",
      "Start\t\t\t3631\n",
      "End\t\t\t5899\n",
      "Score\t\t\t.\n",
      "Strand\t\t\t+\n",
      "Phase\t\t\t.\n",
      "Annotation\t\tID=AT1G01010;Note=protein_coding_gene;Name=AT1G01010\n"
     ]
    },
    {
     "data": {
      "text/plain": [
       "'AT1G01010'"
      ]
     },
     "execution_count": 15,
     "metadata": {},
     "output_type": "execute_result"
    }
   ],
   "source": [
    "print(TAIR10_GFF3[1])\n",
    "get_name_from_gff(TAIR10_GFF3[1])"
   ]
  },
  {
   "cell_type": "code",
   "execution_count": 16,
   "metadata": {},
   "outputs": [
    {
     "name": "stdout",
     "output_type": "stream",
     "text": [
      "ReferenceSequence\tChr1\n",
      "Source\t\t\tTAIR10\n",
      "Feature\t\t\tmRNA\n",
      "Start\t\t\t3631\n",
      "End\t\t\t5899\n",
      "Score\t\t\t.\n",
      "Strand\t\t\t+\n",
      "Phase\t\t\t.\n",
      "Annotation\t\tID=AT1G01010.1;Parent=AT1G01010;Name=AT1G01010.1;Index=1\n"
     ]
    },
    {
     "data": {
      "text/plain": [
       "'AT1G01010.1'"
      ]
     },
     "execution_count": 16,
     "metadata": {},
     "output_type": "execute_result"
    }
   ],
   "source": [
    "print(TAIR10_GFF3[2])\n",
    "get_name_from_gff(TAIR10_GFF3[2])"
   ]
  },
  {
   "cell_type": "markdown",
   "metadata": {},
   "source": [
    "My `dffparser`\n",
    "\n",
    "On the class Prof. Katari said that\n",
    "- range start < gene end\n",
    "- range end > gene start\n",
    "\n",
    "```\n",
    "--- neucleotides\n",
    "=== genes\n",
    "|   range selected\n",
    "\n",
    "     |                |\n",
    "----====-----===----====----====----\n",
    "     ✓        ✓      ✓      X\n",
    "```"
   ]
  },
  {
   "cell_type": "code",
   "execution_count": 17,
   "metadata": {},
   "outputs": [],
   "source": [
    "def gffparser(path: str, chromosome: str, start: int, end: int):\n",
    "    ggfs = open_gff(path)\n",
    "\n",
    "    # only get the gene name\n",
    "    return [get_name_from_gff(i) for i in ggfs \\\n",
    "        if i.ReferenceSequence == chromosome and\n",
    "            i.Feature == \"gene\" and # make sure it is a gene\n",
    "            i.End > start and # make sure it is in the range\n",
    "            i.Start < end]"
   ]
  },
  {
   "cell_type": "code",
   "execution_count": 18,
   "metadata": {},
   "outputs": [
    {
     "data": {
      "text/plain": [
       "['AT1G01010', 'AT1G01020']"
      ]
     },
     "execution_count": 18,
     "metadata": {},
     "output_type": "execute_result"
    }
   ],
   "source": [
    "gffparser(\"TAIR10_GFF3_genes.gff\", \"Chr1\", 1, 10000)\n",
    "# AT1G01010\n",
    "# AT1G01020"
   ]
  }
 ],
 "metadata": {
  "kernelspec": {
   "display_name": "Python 3.9.13 ('base')",
   "language": "python",
   "name": "python3"
  },
  "language_info": {
   "codemirror_mode": {
    "name": "ipython",
    "version": 3
   },
   "file_extension": ".py",
   "mimetype": "text/x-python",
   "name": "python",
   "nbconvert_exporter": "python",
   "pygments_lexer": "ipython3",
   "version": "3.9.13"
  },
  "orig_nbformat": 4,
  "vscode": {
   "interpreter": {
    "hash": "7a2c4b191d1ae843dde5cb5f4d1f62fa892f6b79b0f9392a84691e890e33c5a4"
   }
  }
 },
 "nbformat": 4,
 "nbformat_minor": 2
}
