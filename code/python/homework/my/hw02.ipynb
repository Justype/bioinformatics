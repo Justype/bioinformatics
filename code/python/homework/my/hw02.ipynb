{
 "nbformat": 4,
 "nbformat_minor": 0,
 "metadata": {
  "colab": {
   "provenance": []
  },
  "kernelspec": {
   "name": "python3",
   "display_name": "Python 3"
  },
  "language_info": {
   "name": "python"
  }
 },
 "cells": [
  {
   "cell_type": "markdown",
   "source": [
    "\n",
    "**Homework 02 - Translation - Due Date:9/26/22**\n"
   ],
   "metadata": {
    "id": "Sb9V4FDMbFIg",
    "pycharm": {
     "name": "#%% md\n"
    }
   }
  },
  {
   "cell_type": "markdown",
   "source": [
    "***\n",
    "Answer all the questions, and download this colab and submit it on brightspace\n",
    "\n",
    "Steps to download colab -\n",
    "\n",
    "\n",
    "*   Click on file menu on the top bar\n",
    "*   Click on download , and type the name of the file as instructed down below .\n",
    "\n",
    "\n",
    "\n",
    "***\n"
   ],
   "metadata": {
    "id": "7SUwc9_hbaZq",
    "pycharm": {
     "name": "#%% md\n"
    }
   }
  },
  {
   "cell_type": "markdown",
   "source": [
    "***\n",
    "Please save the colab as :\n",
    "\n",
    "***netid_name_HW02***\n",
    "\n",
    "For example if my name is Ali and my net-id is maq4265 ,then I will save the Download and save the colab as -\n",
    "\n",
    "maq4265_Ali_HW02\n",
    "***"
   ],
   "metadata": {
    "id": "UYxFgvnxe_WG",
    "pycharm": {
     "name": "#%% md\n"
    }
   }
  },
  {
   "cell_type": "markdown",
   "source": [
    "*** QUESTION - 1 ***"
   ],
   "metadata": {
    "id": "uNIOUtFbfuS4",
    "pycharm": {
     "name": "#%% md\n"
    }
   }
  },
  {
   "cell_type": "markdown",
   "source": [
    "The goal of this assignment is to write a function called translation that will translate the DNA sequence in sense strand to Protein. You are NOT allowed to use any libraries or packages that have not yet been covered in class. \n",
    "\n",
    "def translate(seq): \n",
    "\"\"\" This is a docstring. Surrounded by triple double-quotes. Description of the whole function goes here. \"\"\" \n",
    "\n",
    "\n",
    "The test sequence we will use is the same as before: \n",
    "sequence =\"ATGTACCACATAGTGATGGAGACGGAGCCATTGAAGCCGCCGGGC CCGCAGCAAACCTTCGGGGGGCGGCGGCGGCAACTCCACCGCGGCATTCGTTAG\"\n",
    "\n",
    "\n",
    "Below is a dictionary that represents the genetic code, where 3 nucleotides represent an amino acid. Remember the codons are nonoverlapping. For example the first is ATG and the next is TAC. To generate a new protein sequence you have to combine the amino acids from all codons into one string.\n",
    "\n",
    "geneticcode = {\n",
    "    'ATA':'I', 'ATC':'I', 'ATT':'I', 'ATG':'M',\n",
    "    'ACA':'T', 'ACC':'T', 'ACG':'T', 'ACT':'T',\n",
    "    'AAC':'N', 'AAT':'N', 'AAA':'K', 'AAG':'K',\n",
    "    'AGC':'S', 'AGT':'S', 'AGA':'R', 'AGG':'R',\n",
    "    'CTA':'L', 'CTC':'L', 'CTG':'L', 'CTT':'L',\n",
    "    'CCA':'P', 'CCC':'P', 'CCG':'P', 'CCT':'P',\n",
    "    'CAC':'H', 'CAT':'H', 'CAA':'Q', 'CAG':'Q',\n",
    "    'CGA':'R', 'CGC':'R', 'CGG':'R', 'CGT':'R',\n",
    "    'GTA':'V', 'GTC':'V', 'GTG':'V', 'GTT':'V',\n",
    "    'GCA':'A', 'GCC':'A', 'GCG':'A', 'GCT':'A',\n",
    "    'GAC':'D', 'GAT':'D', 'GAA':'E', 'GAG':'E',\n",
    "    'GGA':'G', 'GGC':'G', 'GGG':'G', 'GGT':'G',\n",
    "    'TCA':'S', 'TCC':'S', 'TCG':'S', 'TCT':'S',\n",
    "    'TTC':'F', 'TTT':'F', 'TTA':'L', 'TTG':'L',\n",
    "    'TAC':'Y', 'TAT':'Y', 'TAA':'_', 'TAG':'_',\n",
    "    'TGC':'C', 'TGT':'C', 'TGA':'_', 'TGG':'W'\n",
    "    }\n",
    "\n",
    "\n",
    "\n",
    "***Testing the input:***\n",
    "\n",
    "\n",
    "1.   If the input sequence is not a multiple of 3, assert with a message to the user, “Please provide a sequence with multiple of three” \n",
    "\n",
    "translate(‘ACGTCGC’) # should return an error.\n",
    "\n",
    "2.   Check if the sequence is valid, only [A,C,G,T] should be allowed. If there is anything wrong, it should assert, “Invalid sequence, input sequence can only contain A, C, G, or T”\n",
    "\n",
    "translate(‘ACGTCGCGX’) # should return an error.\n",
    "\n",
    "3. If the sequence is OK, then return the protein sequence.\n",
    "\n",
    "\n",
    "\n"
   ],
   "metadata": {
    "id": "23sZlk0-f4HK",
    "pycharm": {
     "name": "#%% md\n"
    }
   }
  },
  {
   "cell_type": "code",
   "source": [
    "\"\"\"\n",
    "Write your function here \n",
    "\"\"\""
   ],
   "metadata": {
    "colab": {
     "base_uri": "https://localhost:8080/",
     "height": 35
    },
    "id": "JIkzX6NXfABR",
    "outputId": "822e5147-1950-44b0-98a7-4b5ce2e08cb3",
    "pycharm": {
     "name": "#%%\n"
    }
   },
   "execution_count": 2,
   "outputs": [
    {
     "output_type": "execute_result",
     "data": {
      "text/plain": [
       "'\\nWrite your function here \\n'"
      ],
      "application/vnd.google.colaboratory.intrinsic+json": {
       "type": "string"
      }
     },
     "metadata": {},
     "execution_count": 2
    }
   ]
  },
  {
   "cell_type": "markdown",
   "source": [
    "***\n",
    "***"
   ],
   "metadata": {
    "id": "0BfC7iGQg__F",
    "pycharm": {
     "name": "#%% md\n"
    }
   }
  },
  {
   "cell_type": "markdown",
   "source": [
    "***\n",
    "** QUESTION 2 **\n",
    "***"
   ],
   "metadata": {
    "id": "xmvrbQ6WhDoc",
    "pycharm": {
     "name": "#%% md\n"
    }
   }
  },
  {
   "cell_type": "markdown",
   "source": [
    "Below is a list of sequences\n",
    "\n",
    "       seq=[‘ATCG’,’ACGT’,’ATGGGTCGAT’,’AGCT’,’ACATCG’]\n",
    "\n",
    "Use the list called seq above to answer the following questions programmatically\n",
    "\n",
    "\n",
    "\n",
    "1.   Find the indexes of sequences greater than length 4 in the list of sequences shared above.\n",
    "2.   Replace the sequences with length greater than 4 in the list with ‘ATTT’ \n",
    "3. Convert the above list to a tuple by using pythons inbuilt functions and try performing the same operations mentioned in 2.2). Are you able to perform these operations?, if you face any errors, try to explain the reasoning behind the error. \n",
    "\n"
   ],
   "metadata": {
    "id": "hbPhOFHahJWH",
    "pycharm": {
     "name": "#%% md\n"
    }
   }
  },
  {
   "cell_type": "code",
   "source": [
    "\"\"\"\n",
    "Answer 2 \n",
    "\"\"\""
   ],
   "metadata": {
    "colab": {
     "base_uri": "https://localhost:8080/",
     "height": 35
    },
    "id": "5j8pgDhghIPx",
    "outputId": "4d1ed2bf-8010-4abd-fc19-b467d393aeb8",
    "pycharm": {
     "name": "#%%\n"
    }
   },
   "execution_count": 3,
   "outputs": [
    {
     "output_type": "execute_result",
     "data": {
      "text/plain": [
       "'\\nAnswer 2 \\n'"
      ],
      "application/vnd.google.colaboratory.intrinsic+json": {
       "type": "string"
      }
     },
     "metadata": {},
     "execution_count": 3
    }
   ]
  }
 ]
}