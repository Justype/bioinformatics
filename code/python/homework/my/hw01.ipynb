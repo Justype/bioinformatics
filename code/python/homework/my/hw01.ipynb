{
  "cells": [
    {
      "cell_type": "markdown",
      "metadata": {
        "id": "46YLEbvldLA1"
      },
      "source": [
        "# 1.Sequence Analysis\n",
        "\n",
        "```py\n",
        "sequence = \"ATGTACAACATAGTGATGGAGACGGAGCCATTGAAGCCGCCGGGCCCGCAGCAAACCTTCGGGGGGCGGCGGCGGCAACTCCACCGCGGCATTCGTUAG\"\n",
        "```\n",
        "\n",
        "Questions\n",
        "\n",
        "1. Calculate number of nucleotides in the given sequence.\n",
        "1. Calculate number of codon in the given sequence (if it is all translated)?\n",
        "1. Check whether the given sequence starts with 'ATG'.\n",
        "1. Check whether the sequence ends in frame. (the length of the sequence is\n",
        "divisible by 3)\n",
        "1. What percentage of sequence is GC ?\n",
        "1. Print only the first and last codon.\n",
        "1. Using the dictionary provided below, what amino acid does the second\n",
        "codon represent?\n"
      ]
    },
    {
      "cell_type": "code",
      "execution_count": 1,
      "metadata": {
        "colab": {
          "base_uri": "https://localhost:8080/",
          "height": 35
        },
        "id": "a5dnOoXBdNuT",
        "outputId": "c88c6f44-bb11-4572-db3b-9ff18ab99ae1"
      },
      "outputs": [
        {
          "data": {
            "text/plain": [
              "'ATGTACAACATAGTGATGGAGACGGAGCCATTGAAGCCGCCGGGCCCGCAGCAAACCTTCGGGGGGCGGCGGCGGCAACTCCACCGCGGCATTCGTUAG'"
            ]
          },
          "execution_count": 1,
          "metadata": {},
          "output_type": "execute_result"
        }
      ],
      "source": [
        "sequence = \"ATGTACAACATAGTGATGGAGACGGAGCCATTGAAGCCGCCGGGCCCGCAGCAAACCTTCGGGGGGCGGCGGCGGCAACTCCACCGCGGCATTCGTUAG\"\n",
        "\n",
        "sequence"
      ]
    },
    {
      "cell_type": "code",
      "execution_count": 2,
      "metadata": {
        "colab": {
          "base_uri": "https://localhost:8080/",
          "height": 0
        },
        "id": "7efiCGAhdeeO",
        "outputId": "cc6a243d-ed3c-4aeb-9381-4a82b3fdfe3e"
      },
      "outputs": [
        {
          "data": {
            "text/plain": [
              "99"
            ]
          },
          "execution_count": 2,
          "metadata": {},
          "output_type": "execute_result"
        }
      ],
      "source": [
        "# A. Calculate number of nucleotides in the given sequence.\n",
        "seq_len = len(sequence)\n",
        "seq_len"
      ]
    },
    {
      "cell_type": "code",
      "execution_count": 3,
      "metadata": {
        "colab": {
          "base_uri": "https://localhost:8080/",
          "height": 0
        },
        "id": "TUXmjCFEdvGC",
        "outputId": "6caaf1cf-5bde-4651-bf86-a34f78c713fd"
      },
      "outputs": [
        {
          "data": {
            "text/plain": [
              "33"
            ]
          },
          "execution_count": 3,
          "metadata": {},
          "output_type": "execute_result"
        }
      ],
      "source": [
        "# B. Calculate number of codon in the given sequence (if it is all translated)?\n",
        "int(seq_len / 3)"
      ]
    },
    {
      "cell_type": "code",
      "execution_count": 4,
      "metadata": {
        "colab": {
          "base_uri": "https://localhost:8080/",
          "height": 0
        },
        "id": "LAQvMFfHeHSs",
        "outputId": "72012d9d-ada4-4bd1-b87d-9d98f33905c1"
      },
      "outputs": [
        {
          "data": {
            "text/plain": [
              "True"
            ]
          },
          "execution_count": 4,
          "metadata": {},
          "output_type": "execute_result"
        }
      ],
      "source": [
        "# C. Check whether the given sequence starts with 'ATG'.\n",
        "sequence.startswith(\"ATG\")"
      ]
    },
    {
      "cell_type": "code",
      "execution_count": 5,
      "metadata": {
        "colab": {
          "base_uri": "https://localhost:8080/",
          "height": 0
        },
        "id": "hSrjasZ7eShe",
        "outputId": "11f562fd-7536-4834-b634-d3ce6d10e4fb"
      },
      "outputs": [
        {
          "data": {
            "text/plain": [
              "True"
            ]
          },
          "execution_count": 5,
          "metadata": {},
          "output_type": "execute_result"
        }
      ],
      "source": [
        "# D. Check whether the sequence ends in frame. (the length of the sequence is divisible by 3)\n",
        "seq_len % 3 == 0"
      ]
    },
    {
      "cell_type": "code",
      "execution_count": 6,
      "metadata": {
        "colab": {
          "base_uri": "https://localhost:8080/",
          "height": 35
        },
        "id": "nJ0rcUBOefUT",
        "outputId": "1359b255-0428-40a7-877c-91e5f0397237"
      },
      "outputs": [
        {
          "data": {
            "text/plain": [
              "'63.64%'"
            ]
          },
          "execution_count": 6,
          "metadata": {},
          "output_type": "execute_result"
        }
      ],
      "source": [
        "# E. What percentage of sequence is GC ?\n",
        "C_count = sequence.count('C')\n",
        "G_count = sequence.count('G')\n",
        "CG_pct = (C_count + G_count) / seq_len\n",
        "\"{:.2%}\".format(CG_pct) # Get the percentage format"
      ]
    },
    {
      "cell_type": "code",
      "execution_count": 7,
      "metadata": {
        "colab": {
          "base_uri": "https://localhost:8080/",
          "height": 0
        },
        "id": "caFihqpegAin",
        "outputId": "57e0897b-64c1-4d5b-8729-b31665888079"
      },
      "outputs": [
        {
          "name": "stdout",
          "output_type": "stream",
          "text": [
            "First Condon:\t ATG\n",
            "Last Condon:\t UAG\n"
          ]
        }
      ],
      "source": [
        "# F.Print only the first and last codon.\n",
        "print(\"First Condon:\\t\", sequence[:3]) # first codon\n",
        "print(\"Last Condon:\\t\", sequence[-3:]) # last codon"
      ]
    },
    {
      "cell_type": "code",
      "execution_count": 8,
      "metadata": {
        "id": "HLCWFdzygh_3"
      },
      "outputs": [],
      "source": [
        "# G. Using the dictionary provided below, what amino acid does the second codon represent?\n",
        "genetic_code = {\n",
        "'ATA':'I', 'ATC':'I', 'ATT':'I', 'ATG':'M',\n",
        "'ACA':'T', 'ACC':'T', 'ACG':'T', 'ACT':'T',\n",
        "'AAC':'N', 'AAT':'N', 'AAA':'K', 'AAG':'K',\n",
        "'AGC':'S', 'AGT':'S', 'AGA':'R', 'AGG':'R',\n",
        "'CTA':'L', 'CTC':'L', 'CTG':'L', 'CTT':'L',\n",
        "'CCA':'P', 'CCC':'P', 'CCG':'P', 'CCT':'P',\n",
        "'CAC':'H', 'CAT':'H', 'CAA':'Q', 'CAG':'Q',\n",
        "'CGA':'R', 'CGC':'R', 'CGG':'R', 'CGT':'R',\n",
        "'GTA':'V', 'GTC':'V', 'GTG':'V', 'GTT':'V',\n",
        "'GCA':'A', 'GCC':'A', 'GCG':'A', 'GCT':'A',\n",
        "'GAC':'D', 'GAT':'D', 'GAA':'E', 'GAG':'E',\n",
        "'GGA':'G', 'GGC':'G', 'GGG':'G', 'GGT':'G',\n",
        "'TCA':'S', 'TCC':'S', 'TCG':'S', 'TCT':'S',\n",
        "'TTC':'F', 'TTT':'F', 'TTA':'L', 'TTG':'L',\n",
        "'TAC':'Y', 'TAT':'Y', 'TAA':'_', 'TAG':'_',\n",
        "'TGC':'C', 'TGT':'C', 'TGA':'_', 'TGG':'W'\n",
        "}\n",
        "\n",
        "def get_aa(sequence: str, position: int) ->str:\n",
        "  \"\"\"\n",
        "  get the amino acid encoded of given position in DNA\n",
        "\n",
        "  Parameters:\n",
        "    sequence - str of DNA\n",
        "    position - start from 1\n",
        "  \"\"\"\n",
        "  return genetic_code[ sequence[3 * (position - 1): 3 * position] ]"
      ]
    },
    {
      "cell_type": "code",
      "execution_count": 9,
      "metadata": {},
      "outputs": [
        {
          "data": {
            "text/plain": [
              "'Y'"
            ]
          },
          "execution_count": 9,
          "metadata": {},
          "output_type": "execute_result"
        }
      ],
      "source": [
        "condon_2 = sequence[3: 6] # Get the second condon\n",
        "genetic_code[condon_2] # get the amino acid"
      ]
    },
    {
      "cell_type": "code",
      "execution_count": 10,
      "metadata": {
        "colab": {
          "base_uri": "https://localhost:8080/",
          "height": 35
        },
        "id": "HM0cAFWWpUIO",
        "outputId": "bc2f1720-2714-441c-e270-bbdda2c87cf4"
      },
      "outputs": [
        {
          "data": {
            "text/plain": [
              "'Y'"
            ]
          },
          "execution_count": 10,
          "metadata": {},
          "output_type": "execute_result"
        }
      ],
      "source": [
        "get_aa(sequence, 2) # same thing"
      ]
    },
    {
      "cell_type": "markdown",
      "metadata": {
        "id": "LpA9SKxJhTji"
      },
      "source": [
        "# 2.Fahrenheit to Celsius conversion\n",
        "\n",
        "A. Convert the temperature 23 degrees in Fahrenheit to Celsius"
      ]
    },
    {
      "cell_type": "code",
      "execution_count": 11,
      "metadata": {
        "id": "K_LqOT8whamR"
      },
      "outputs": [],
      "source": [
        "def f2c(ftemp):\n",
        "  \"\"\"\n",
        "  Convert Fahrenheit temperature to Celsius\n",
        "  \"\"\"\n",
        "  assert isinstance(ftemp, (float, int)), \"Please input a real number!\" # make sure the input is a real number (int or float)\n",
        "  return (ftemp - 32) * 5 / 9"
      ]
    },
    {
      "cell_type": "code",
      "execution_count": 12,
      "metadata": {
        "colab": {
          "base_uri": "https://localhost:8080/",
          "height": 0
        },
        "id": "dNslYBPXqtfY",
        "outputId": "5423995b-6898-43ed-dd0d-3adf291a1124"
      },
      "outputs": [
        {
          "data": {
            "text/plain": [
              "-5.0"
            ]
          },
          "execution_count": 12,
          "metadata": {},
          "output_type": "execute_result"
        }
      ],
      "source": [
        "f2c(23)"
      ]
    },
    {
      "cell_type": "markdown",
      "metadata": {
        "id": "o8sBN3BfFhvt"
      },
      "source": [
        "# 3.Gene Sets\n",
        "\n",
        "- Nitrogen = Os1, Os2, Os3, Os5\n",
        "- Carbon = Os1, Os3, Os4, Os5\n",
        "\n",
        "Questions:\n",
        "\n",
        "1. Create 2 sets of genes, one for Nitrogen and one for Carbon.\n",
        "1. Using python functions, determining which genes are present in both sets.\n",
        "1. Using python functions, determining which gene(s) are present only in Nitrogen\n",
        "Set.\n",
        "1. Create a new set called Allgenes that contains genes from both sets"
      ]
    },
    {
      "cell_type": "code",
      "execution_count": 13,
      "metadata": {
        "colab": {
          "base_uri": "https://localhost:8080/",
          "height": 0
        },
        "id": "EyHsEQT3FqOg",
        "outputId": "76dfec1e-bfa7-4ce5-c2a0-6a04d8c2e6d4"
      },
      "outputs": [
        {
          "name": "stdout",
          "output_type": "stream",
          "text": [
            "Nitrogen Genes:\t {'Os2', 'Os3', 'Os5', 'Os1'}\n",
            "Carbon Genes:\t {'Os4', 'Os3', 'Os5', 'Os1'}\n"
          ]
        }
      ],
      "source": [
        "# A. Create 2 sets of genes, one for Nitrogen and one for Carbon.\n",
        "\n",
        "nitrogen = set((\"Os1\", \"Os2\", \"Os3\", \"Os5\"))\n",
        "print(\"Nitrogen Genes:\\t\", nitrogen)\n",
        "carbon = set((\"Os1\", \"Os3\", \"Os4\", \"Os5\"))\n",
        "print(\"Carbon Genes:\\t\", carbon)"
      ]
    },
    {
      "cell_type": "code",
      "execution_count": 14,
      "metadata": {
        "colab": {
          "base_uri": "https://localhost:8080/",
          "height": 0
        },
        "id": "HEHrm33EGem3",
        "outputId": "5a51ae8a-5fa5-4d61-d435-9e122294cc04"
      },
      "outputs": [
        {
          "data": {
            "text/plain": [
              "{'Os1', 'Os3', 'Os5'}"
            ]
          },
          "execution_count": 14,
          "metadata": {},
          "output_type": "execute_result"
        }
      ],
      "source": [
        "# B. Using python functions, determining which genes are present in both sets.\n",
        "\n",
        "def get_same_genes(genes1 :set, genes2 :set) ->set:\n",
        "  \"\"\"\n",
        "  get a set of genes if they are in both gene sets.\n",
        "  \"\"\"\n",
        "  return genes1 & genes2 # intersection\n",
        "\n",
        "get_same_genes(nitrogen, carbon)"
      ]
    },
    {
      "cell_type": "code",
      "execution_count": 15,
      "metadata": {
        "colab": {
          "base_uri": "https://localhost:8080/",
          "height": 0
        },
        "id": "Tmfw_lV4GkL5",
        "outputId": "69003285-fdf0-4f76-8d88-c4957e3da410"
      },
      "outputs": [
        {
          "data": {
            "text/plain": [
              "{'Os2'}"
            ]
          },
          "execution_count": 15,
          "metadata": {},
          "output_type": "execute_result"
        }
      ],
      "source": [
        "# C. Using python functions, determining which gene(s) are present only in NitrogenSet\n",
        "\n",
        "def get_exclusive_genes(genes1 :set, genes2 :set) ->set:\n",
        "  \"\"\"\n",
        "  get a set of genes if they are in gene set 1 and not in gene set 2.\n",
        "  \"\"\"\n",
        "  # return genes1.difference(genes2)\n",
        "  return genes1 - genes2\n",
        "\n",
        "get_exclusive_genes(nitrogen, carbon)"
      ]
    },
    {
      "cell_type": "code",
      "execution_count": 16,
      "metadata": {
        "colab": {
          "base_uri": "https://localhost:8080/",
          "height": 0
        },
        "id": "RBGKcuSZGn6m",
        "outputId": "ccb0f090-dce6-4d66-a8cb-cff21320baad"
      },
      "outputs": [
        {
          "data": {
            "text/plain": [
              "{'Os1', 'Os2', 'Os3', 'Os4', 'Os5'}"
            ]
          },
          "execution_count": 16,
          "metadata": {},
          "output_type": "execute_result"
        }
      ],
      "source": [
        "# D. Create a new set called Allgenes that contains genes from both sets\n",
        "\n",
        "Allgenes = nitrogen | carbon\n",
        "Allgenes"
      ]
    }
  ],
  "metadata": {
    "colab": {
      "collapsed_sections": [],
      "provenance": []
    },
    "kernelspec": {
      "display_name": "Python 3.9.12 ('base')",
      "language": "python",
      "name": "python3"
    },
    "language_info": {
      "codemirror_mode": {
        "name": "ipython",
        "version": 3
      },
      "file_extension": ".py",
      "mimetype": "text/x-python",
      "name": "python",
      "nbconvert_exporter": "python",
      "pygments_lexer": "ipython3",
      "version": "3.9.12"
    },
    "vscode": {
      "interpreter": {
        "hash": "c8fdc0c345bf8a2374a8ee4a0274f09be9639d7a4600a1a9ab1016fb03594b97"
      }
    }
  },
  "nbformat": 4,
  "nbformat_minor": 0
}
